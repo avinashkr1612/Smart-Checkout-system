{
  "nbformat": 4,
  "nbformat_minor": 0,
  "metadata": {
    "colab": {
      "name": "ML Detection.ipynb",
      "provenance": [],
      "collapsed_sections": []
    },
    "kernelspec": {
      "name": "python3",
      "display_name": "Python 3"
    }
  },
  "cells": [
    {
      "cell_type": "code",
      "metadata": {
        "id": "j5nUjaNpZ0YV",
        "colab_type": "code",
        "outputId": "b400cc3b-a117-496a-d664-7db81744e8bd",
        "colab": {
          "base_uri": "https://localhost:8080/",
          "height": 204
        }
      },
      "source": [
        "!wget https://cf-template-inframind2.s3.amazonaws.com/model.rar  -O /tmp/product.rar"
      ],
      "execution_count": 0,
      "outputs": [
        {
          "output_type": "stream",
          "text": [
            "--2019-10-16 16:26:29--  https://cf-template-inframind2.s3.amazonaws.com/model.rar\n",
            "Resolving cf-template-inframind2.s3.amazonaws.com (cf-template-inframind2.s3.amazonaws.com)... 52.216.136.236\n",
            "Connecting to cf-template-inframind2.s3.amazonaws.com (cf-template-inframind2.s3.amazonaws.com)|52.216.136.236|:443... connected.\n",
            "HTTP request sent, awaiting response... 200 OK\n",
            "Length: 759923385 (725M) [application/x-www-form-urlencoded]\n",
            "Saving to: ‘/tmp/product.rar’\n",
            "\n",
            "/tmp/product.rar    100%[===================>] 724.72M  35.4MB/s    in 21s     \n",
            "\n",
            "2019-10-16 16:26:51 (34.3 MB/s) - ‘/tmp/product.rar’ saved [759923385/759923385]\n",
            "\n"
          ],
          "name": "stdout"
        }
      ]
    },
    {
      "cell_type": "code",
      "metadata": {
        "id": "D7WWYmgraGt5",
        "colab_type": "code",
        "colab": {}
      },
      "source": [
        "!pip install pyunpack\n",
        "!pip install patool\n",
        "from pyunpack import Archive\n",
        "Archive('/tmp/product.rar').extractall('/tmp/')"
      ],
      "execution_count": 0,
      "outputs": []
    },
    {
      "cell_type": "code",
      "metadata": {
        "id": "VQHnQicsbe2J",
        "colab_type": "code",
        "colab": {}
      },
      "source": [
        "import os\n",
        "\n",
        "train_horlicks_dir = os.path.join('/tmp/401')\n",
        "train_maggie_dir = os.path.join('/tmp/102')\n",
        "train_colgate_sm_dir = os.path.join('/tmp/300')\n",
        "train_colgate_md_dir = os.path.join('/tmp/301')\n",
        "train_gluconD_dir = os.path.join('/tmp/413')"
      ],
      "execution_count": 0,
      "outputs": []
    },
    {
      "cell_type": "code",
      "metadata": {
        "id": "yjUhQalhcTyY",
        "colab_type": "code",
        "colab": {}
      },
      "source": [
        "import tensorflow as tf"
      ],
      "execution_count": 0,
      "outputs": []
    },
    {
      "cell_type": "code",
      "metadata": {
        "id": "3zHwJwIBc0xT",
        "colab_type": "code",
        "outputId": "590e6ecc-9f4b-45e5-f7a1-5cba9def1cb6",
        "colab": {
          "base_uri": "https://localhost:8080/",
          "height": 88
        }
      },
      "source": [
        "model = tf.keras.models.Sequential([\n",
        "\n",
        "    tf.keras.layers.Conv2D(16, (3,3), activation='relu', input_shape=(300, 300, 3)),\n",
        "    tf.keras.layers.MaxPooling2D(2, 2),\n",
        "\n",
        "    tf.keras.layers.Conv2D(32, (3,3), activation='relu'),\n",
        "    tf.keras.layers.MaxPooling2D(2,2),\n",
        "\n",
        "    tf.keras.layers.Conv2D(64, (3,3), activation='relu'),\n",
        "    tf.keras.layers.MaxPooling2D(2,2),\n",
        "\n",
        "    tf.keras.layers.Conv2D(64, (3,3), activation='relu'),\n",
        "    tf.keras.layers.MaxPooling2D(2,2),\n",
        "\n",
        "    tf.keras.layers.Conv2D(64, (3,3), activation='relu'),\n",
        "    tf.keras.layers.MaxPooling2D(2,2),\n",
        "\n",
        "    tf.keras.layers.Flatten(),\n",
        "\n",
        "    tf.keras.layers.Dense(512, activation='relu'),\n",
        "\n",
        "    tf.keras.layers.Dense(1, activation='sigmoid')\n",
        "])"
      ],
      "execution_count": 0,
      "outputs": [
        {
          "output_type": "stream",
          "text": [
            "WARNING:tensorflow:From /usr/local/lib/python3.6/dist-packages/tensorflow_core/python/ops/resource_variable_ops.py:1630: calling BaseResourceVariable.__init__ (from tensorflow.python.ops.resource_variable_ops) with constraint is deprecated and will be removed in a future version.\n",
            "Instructions for updating:\n",
            "If using Keras pass *_constraint arguments to layers.\n"
          ],
          "name": "stdout"
        }
      ]
    },
    {
      "cell_type": "code",
      "metadata": {
        "id": "CKw9LN2Zc8Rl",
        "colab_type": "code",
        "outputId": "8e51602d-9054-4a86-da20-0cb31d00a572",
        "colab": {
          "base_uri": "https://localhost:8080/",
          "height": 88
        }
      },
      "source": [
        "from tensorflow.keras.optimizers import RMSprop\n",
        "\n",
        "model.compile(loss='binary_crossentropy',\n",
        "              optimizer=RMSprop(lr=0.001),\n",
        "              metrics=['acc'])"
      ],
      "execution_count": 0,
      "outputs": [
        {
          "output_type": "stream",
          "text": [
            "WARNING:tensorflow:From /usr/local/lib/python3.6/dist-packages/tensorflow_core/python/ops/nn_impl.py:183: where (from tensorflow.python.ops.array_ops) is deprecated and will be removed in a future version.\n",
            "Instructions for updating:\n",
            "Use tf.where in 2.0, which has the same broadcast rule as np.where\n"
          ],
          "name": "stdout"
        }
      ]
    },
    {
      "cell_type": "code",
      "metadata": {
        "id": "bBHICdZ8dAc5",
        "colab_type": "code",
        "outputId": "63b65ca3-8f36-4a00-824b-1d9b0ecd0fa5",
        "colab": {
          "base_uri": "https://localhost:8080/",
          "height": 34
        }
      },
      "source": [
        "from tensorflow.keras.preprocessing.image import ImageDataGenerator\n",
        "\n",
        "train_datagen = ImageDataGenerator(rescale=1/255)\n",
        "\n",
        "train_generator = train_datagen.flow_from_directory(\n",
        "        '/tmp/', \n",
        "        target_size=(300, 300),  \n",
        "        batch_size=4,\n",
        "        class_mode='binary')"
      ],
      "execution_count": 0,
      "outputs": [
        {
          "output_type": "stream",
          "text": [
            "Found 412 images belonging to 5 classes.\n"
          ],
          "name": "stdout"
        }
      ]
    },
    {
      "cell_type": "code",
      "metadata": {
        "id": "A3gF-JMRdG1o",
        "colab_type": "code",
        "outputId": "d5e2e1bc-004f-4b3d-c75f-fd70b336b457",
        "colab": {
          "base_uri": "https://localhost:8080/",
          "height": 527
        }
      },
      "source": [
        "history = model.fit_generator(\n",
        "      train_generator,\n",
        "      steps_per_epoch=8,  \n",
        "      epochs=15,\n",
        "      verbose=1)"
      ],
      "execution_count": 0,
      "outputs": [
        {
          "output_type": "stream",
          "text": [
            "Epoch 1/15\n",
            "8/8 [==============================] - 7s 893ms/step - loss: -34069.9599 - acc: 0.2188\n",
            "Epoch 2/15\n",
            "8/8 [==============================] - 8s 947ms/step - loss: -7191783.7969 - acc: 0.1250\n",
            "Epoch 3/15\n",
            "8/8 [==============================] - 6s 791ms/step - loss: -85129477.5000 - acc: 0.1250\n",
            "Epoch 4/15\n",
            "8/8 [==============================] - 7s 906ms/step - loss: -680075468.0000 - acc: 0.1250\n",
            "Epoch 5/15\n",
            "8/8 [==============================] - 7s 880ms/step - loss: -2257707320.0000 - acc: 0.1875\n",
            "Epoch 6/15\n",
            "8/8 [==============================] - 6s 800ms/step - loss: -4591579736.0000 - acc: 0.0938\n",
            "Epoch 7/15\n",
            "8/8 [==============================] - 7s 862ms/step - loss: -10352824848.0000 - acc: 0.1562\n",
            "Epoch 8/15\n",
            "8/8 [==============================] - 7s 889ms/step - loss: -18258974208.0000 - acc: 0.2812\n",
            "Epoch 9/15\n",
            "8/8 [==============================] - 8s 950ms/step - loss: -43562681088.0000 - acc: 0.1562\n",
            "Epoch 10/15\n",
            "8/8 [==============================] - 8s 940ms/step - loss: -77091833856.0000 - acc: 0.2188\n",
            "Epoch 11/15\n",
            "8/8 [==============================] - 7s 913ms/step - loss: -141789723648.0000 - acc: 0.2500\n",
            "Epoch 12/15\n",
            "8/8 [==============================] - 7s 862ms/step - loss: -276364355584.0000 - acc: 0.0312\n",
            "Epoch 13/15\n",
            "8/8 [==============================] - 7s 830ms/step - loss: -322830221312.0000 - acc: 0.1250\n",
            "Epoch 14/15\n",
            "8/8 [==============================] - 8s 985ms/step - loss: -508541304832.0000 - acc: 0.1875\n",
            "Epoch 15/15\n",
            "8/8 [==============================] - 7s 912ms/step - loss: -745253847040.0000 - acc: 0.2188\n"
          ],
          "name": "stdout"
        }
      ]
    },
    {
      "cell_type": "markdown",
      "metadata": {
        "id": "CzqqgrhAToRo",
        "colab_type": "text"
      },
      "source": [
        "## Saving the Model"
      ]
    },
    {
      "cell_type": "code",
      "metadata": {
        "id": "uMVpiVN7TkFq",
        "colab_type": "code",
        "outputId": "474fe508-ba47-4e99-d99d-298a4f9cd986",
        "colab": {
          "base_uri": "https://localhost:8080/",
          "height": 68
        }
      },
      "source": [
        "!sudo pip install h5py"
      ],
      "execution_count": 0,
      "outputs": [
        {
          "output_type": "stream",
          "text": [
            "Requirement already satisfied: h5py in /usr/local/lib/python3.6/dist-packages (2.8.0)\n",
            "Requirement already satisfied: six in /usr/local/lib/python3.6/dist-packages (from h5py) (1.12.0)\n",
            "Requirement already satisfied: numpy>=1.7 in /usr/local/lib/python3.6/dist-packages (from h5py) (1.16.5)\n"
          ],
          "name": "stdout"
        }
      ]
    },
    {
      "cell_type": "code",
      "metadata": {
        "id": "ombefAdJTus6",
        "colab_type": "code",
        "outputId": "a725691a-8e00-4d22-98a7-d90005ce0aca",
        "colab": {
          "base_uri": "https://localhost:8080/",
          "height": 34
        }
      },
      "source": [
        "from keras.models import Sequential\n",
        "from keras.layers import Dense\n",
        "from keras.models import model_from_json\n",
        "import numpy\n",
        "import os"
      ],
      "execution_count": 0,
      "outputs": [
        {
          "output_type": "stream",
          "text": [
            "Using TensorFlow backend.\n"
          ],
          "name": "stderr"
        }
      ]
    },
    {
      "cell_type": "code",
      "metadata": {
        "id": "4p6uUf5vTzTz",
        "colab_type": "code",
        "colab": {}
      },
      "source": [
        "model_json = model.to_json()"
      ],
      "execution_count": 0,
      "outputs": []
    },
    {
      "cell_type": "code",
      "metadata": {
        "id": "D7uBq4U5T2P3",
        "colab_type": "code",
        "colab": {}
      },
      "source": [
        "with open(\"model.json\", \"w\") as json_file:\n",
        "    json_file.write(model_json)"
      ],
      "execution_count": 0,
      "outputs": []
    },
    {
      "cell_type": "code",
      "metadata": {
        "id": "DEU0YzbYT2ux",
        "colab_type": "code",
        "outputId": "1b1e2935-62f7-41b3-d021-9c04b712957e",
        "colab": {
          "base_uri": "https://localhost:8080/",
          "height": 34
        }
      },
      "source": [
        "model.save_weights(\"model.h5\")\n",
        "print(\"Saved model to disk\")"
      ],
      "execution_count": 0,
      "outputs": [
        {
          "output_type": "stream",
          "text": [
            "Saved model to disk\n"
          ],
          "name": "stdout"
        }
      ]
    }
  ]
}